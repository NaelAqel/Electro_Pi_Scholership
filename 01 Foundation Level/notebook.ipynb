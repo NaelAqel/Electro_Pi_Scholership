{
 "cells": [
  {
   "cell_type": "markdown",
   "metadata": {},
   "source": [
    "# Electro Pi Scholarship\n",
    "## Week 1: Foundation Level\n",
    "### Objectives\n",
    "After watching all the following primary cards you should start to :-\n",
    "- Build a Python Script that would take any type of data as an input whether (`.csv` or `.xlsx`) that hold data with different type of errors that need to be corrected first then return an automated **Exploratory Data Analysis** Charts as an output.\n",
    "- Sample Input: `data.xlsx`\n",
    "- Desired Output: EDA for that data.\n",
    "\n",
    "### Steps hint :-\n",
    "1. load Data with conditions for different extensions such as `csv` or `xlsx`.\n",
    "2. Check on variable types to know how to fix their errors and visualize relations correctly\n",
    "3. start Data preprocessing to fill gabs and similar stuff with conditions.\n",
    "4. Visualize charts with conditions for different column types.\n",
    "\n",
    "### Datasets\n",
    "1. **Retail Data**: https://www.kaggle.com/datasets/manjeetsingh/retaildataset\n",
    "2. **Data Police Shooting**: https://www.kaggle.com/datasets/mrmorj/data-police-shootings\n",
    "\n",
    "\n",
    "> When you finish this objective please upload your notebook with results on `GitHub` then send your `GitHub` repo link as an attachement for the assignment over the shcolership google class page."
   ]
  },
  {
   "cell_type": "markdown",
   "metadata": {},
   "source": [
    "----"
   ]
  },
  {
   "cell_type": "markdown",
   "metadata": {},
   "source": [
    "# 01 Importing Modules"
   ]
  },
  {
   "cell_type": "code",
   "execution_count": 1,
   "metadata": {},
   "outputs": [],
   "source": [
    "# import pandas, matplotlib and numpy\n",
    "import pandas as pd\n",
    "import matplotlib.pyplot as plt\n",
    "import numpy as np\n",
    "\n",
    "# Show all columns' content\n",
    "pd.set_option('display.max_colwidth', None)"
   ]
  },
  {
   "cell_type": "markdown",
   "metadata": {},
   "source": [
    "# 02 Define the Automation Class `Dataset`"
   ]
  },
  {
   "cell_type": "markdown",
   "metadata": {},
   "source": [
    "The class `Dataset` will take these inputs:\n",
    "1. **`link_path`**: The `link` or `path` where the dataset locates.\n",
    "2. **`drop_missing_ratio`**: The ratio of missing values inside a column to total number of values, it should be between `[0, 1]`, any column with ratio above or equal this value will be dropped, default value is `0`.\n",
    "3. **`cat_cols_max_unique`**: The maximum number of unique values inside a non numeric columns to be plotted in the EDA, default is `15` and minimum value is `5`.\n",
    "\n",
    "After creating your object using the `Dataset` class, you can run the automated cleaning and EDA using **`.output()`** method.\n",
    "\n",
    "**Note**: All other methods used inside `Dataset` are **private**."
   ]
  },
  {
   "cell_type": "code",
   "execution_count": 2,
   "metadata": {},
   "outputs": [],
   "source": [
    "class Dataset:\n",
    "    # Define the __init__ method \n",
    "    def __init__(self, link_path='', drop_missing_ratio=0, cat_cols_max_unique=15):\n",
    "        # ---------------- Checking inputs ----------------\n",
    "        # Check if link/path of dataset is entered\n",
    "        if link_path == '':\n",
    "            raise ValueError('Please enter the dataset link/path.')\n",
    "        \n",
    "        # Check the value of drop_missing_ratio is within the range\n",
    "        if (drop_missing_ratio < 0) | (drop_missing_ratio > 1):\n",
    "            raise ValueError('drop_missing_ratio should be between 0 and 1.')\n",
    "        \n",
    "        # Check if cat_cols_max_unique is an integer number above or equal 5\n",
    "        if (cat_cols_max_unique < 5) | (type(cat_cols_max_unique) != int):\n",
    "            raise ValueError('cat_cols_max_unique should be integer above or equal to 5.')\n",
    "        \n",
    "        # ---------------- Assign the inputs as object instances variables ----------------\n",
    "        self.drop_missing_ratio = drop_missing_ratio\n",
    "        self.cat_cols_max_unique = cat_cols_max_unique\n",
    "  \n",
    "        # ---------------- Checking link_path ----------------\n",
    "        # try loading dataset in link_path in both csv or excel options, if passed then assign \n",
    "        # dataframe to 'df', otherwise print error message\n",
    "        try:\n",
    "            self.df = pd.read_csv(link_path)\n",
    "            # call print_info() method to print loading details\n",
    "            self.__print_info()\n",
    "            return None\n",
    "        # if not passed, then try read_excel\n",
    "        except:\n",
    "            pass\n",
    "        \n",
    "        try:\n",
    "            self.df = pd.read_excel(link_path)\n",
    "            # call print_info() method to print loading details\n",
    "            self.__print_info()\n",
    "            return None  \n",
    "        except FileNotFoundError:\n",
    "            # if file is not found then print error message\n",
    "            print('File Not Found!')\n",
    "        else:\n",
    "            # print general error message if nothimg passed\n",
    "            print('Unkown Error!')\n",
    "            \n",
    "    \n",
    "    # define output method\n",
    "    def output(self):\n",
    "        # First section is printing general information of the dataframe\n",
    "        print('---------- Dataframe informations ----------')\n",
    "        print('1- Number of columns:', self.df.shape[1])\n",
    "        print('2- Number of rows:', self.df.shape[0])\n",
    "        print('3- First 5 rows:')\n",
    "        display(self.df.head())\n",
    "        print('4- Data Types:')\n",
    "        self.num_cols, self.cat_cols, self.non_cat_cols = self.__data_types()\n",
    "        \n",
    "        # Second section is handling the missing values\n",
    "        print('\\n\\n---------- Handling missing values ----------')\n",
    "        self.__missing_values()\n",
    "        \n",
    "        # Third section will be EDA for numerical columns\n",
    "        print('\\n\\n---------- EDA for numerical columns ----------')\n",
    "        self.__eda_num_cols()\n",
    "        \n",
    "        # Forth section will be EDA for categorical columns\n",
    "        print('\\n\\n---------- EDA for categorical columns ----------')\n",
    "        self.__eda_cat_cols()\n",
    "        \n",
    "        # Fifth section will be EDA for non categorical columns\n",
    "        print('\\n\\n---------- EDA for non categorical columns ----------')\n",
    "        self.__eda_non_cat_cols()\n",
    "        \n",
    "    \n",
    "    # define print_info method\n",
    "    def __print_info(self):\n",
    "        # print information after finish loading\n",
    "        print('Loading of dataframe done successfully in your object...\\n')\n",
    "        print('We have three attributes in this object:')\n",
    "        print(' 1- df: The dataframe is saved here.')\n",
    "        print(' 2- drop_missing_ratio: the minimum ratio of missing data inside the columns to be dropped', \n",
    "            ' current value is {}.'.format(self.drop_missing_ratio))\n",
    "        print(' 3- cat_cols_max_unique: the maximum number of unique values inside non numeric columns', \n",
    "            'any column has more than this number of unique values will not be plotted', \n",
    "            'current value is {}.\\n'.format(self.cat_cols_max_unique))\n",
    "        print('For the auto cleaning and EDA, call \".output()\" method.')\n",
    "        \n",
    "        \n",
    "    def __data_types(self):\n",
    "        # Assign numerical columns in num_cols\n",
    "        num_cols = self.df.select_dtypes(include=np.number).columns\n",
    "        \n",
    "        # Assign non numerical columns in non_num_cols\n",
    "        non_num_cols = self.df.select_dtypes(exclude=[np.number]).columns\n",
    "        \n",
    "        # seperate non_num_cols to categorical and non categorical based on cat_cols_max_unique\n",
    "        if len(non_num_cols) > 0:\n",
    "            cat_cols = [col for col in non_num_cols if len([*self.df[col].unique()]) <= self.cat_cols_max_unique]\n",
    "            non_cat_cols = [col for col in non_num_cols if len([*self.df[col].unique()]) > self.cat_cols_max_unique]\n",
    "        \n",
    "        # Show the three data types as dataframe\n",
    "        display(pd.DataFrame.from_dict({'numeric': ', '.join(num_cols)if len(num_cols) > 0 else None, \n",
    "                                        'categorical': ', '.join(cat_cols)if len(cat_cols) > 0 else None,\n",
    "                                        'non_categorical': ', '.join(non_cat_cols)if len(non_cat_cols) > 0 else None},\n",
    "                                       orient='index', columns=['columns']))\n",
    "        # return the three lists\n",
    "        return num_cols, cat_cols, non_cat_cols\n",
    "            \n",
    "            \n",
    "    def __missing_values(self):\n",
    "        # take missing values as a dataframe\n",
    "        df_missing = pd.DataFrame(self.df.isna().sum().sort_values(ascending=False),\n",
    "                                  columns=['missing_count'])\n",
    "        df_missing = df_missing[df_missing['missing_count'] > 0]\n",
    "        \n",
    "        if len(df_missing) > 0:\n",
    "            # if we have missing values, calculate the missing ratio and add it as a column\n",
    "            df_missing['missing_ratio'] = df_missing['missing_count'] / len(self.df)\n",
    "            \n",
    "            # show missing dataframe\n",
    "            print('Dataframe has missing values, details are below:')\n",
    "            display(df_missing)\n",
    "            \n",
    "            # drop columns with missing ratio values >= drop_missing_ratio\n",
    "            cols_to_drop = [*df_missing[df_missing['missing_ratio'] >= self.drop_missing_ratio].index]\n",
    "            # if we have columns to drop\n",
    "            if len(cols_to_drop) > 0:\n",
    "                # drop columns from the df\n",
    "                print('We will drop {} columns.'.format(cols_to_drop))\n",
    "                self.df.drop(cols_to_drop, axis=1, inplace=True)\n",
    "                \n",
    "                # update columns datatype lists\n",
    "                self.num_cols = list(set(self.num_cols).difference(set(cols_to_drop)))\n",
    "                self.cat_cols = list(set(self.cat_cols).difference(set(cols_to_drop)))\n",
    "                self.non_cat_cols = list(set(self.non_cat_cols).difference(set(cols_to_drop)))\n",
    "                \n",
    "            # take a list of the missing columns after dropping high missing ratio columns \n",
    "            missing_columns = list(set([*df_missing.index]).difference(set(cols_to_drop)))\n",
    "            \n",
    "            # take the missing columns only from each category\n",
    "            num_missing_cols = list(set(self.num_cols).intersection(set(missing_columns)))\n",
    "            cat_missing_cols = list(set(self.cat_cols).intersection(set(missing_columns))) \n",
    "            non_cat_missing_cols = list(set(self.non_cat_cols).intersection(set(missing_columns))) \n",
    "            \n",
    "            # values will be the dictionary which will be entered in fillna method\n",
    "            values = {}\n",
    "            \n",
    "            if len(num_missing_cols) > 0:\n",
    "                # if there is a numerical missing columns, we will update (values) with the mean of each column\n",
    "                print('Filling numerical missing columns with the mean value...')\n",
    "                values.update({col: self.df[col].mean() for col in num_missing_cols})\n",
    "                        \n",
    "            if len(cat_missing_cols) > 0:\n",
    "                # if there is a categorical missing columns, we will update (values) with the most frequent \n",
    "                # of each column\n",
    "                print('Filling categorical missing columns with the most frequent value...')\n",
    "                values.update({col: self.df[col].value_counts().idxmax() for col in cat_missing_cols})\n",
    "                \n",
    "            if len(non_cat_missing_cols) > 0:\n",
    "                # if there is a nin categorical missing columns, we will update (values) with (Not Applicable)\n",
    "                print('Filling non categorical missing columns with (Not Applicable) string...')\n",
    "                values.update({col: 'Not Applicable' for col in non_cat_missing_cols})\n",
    "            \n",
    "            # now fillna \n",
    "            self.df.fillna(value=values, inplace=True)\n",
    "            print('\\n\\nMissing values had imputed, now dataframe is ready for EDA.')            \n",
    "        else:\n",
    "            print('Congrats, dataframe does not have missing values.')\n",
    "            \n",
    "        \n",
    "    def __eda_num_cols(self):   \n",
    "        if len(self.num_cols) > 0:\n",
    "            display(pd.DataFrame.from_dict({'min_value': [self.df[col].min() for col in self.num_cols],\n",
    "                                        'max_value': [self.df[col].max() for col in self.num_cols], \n",
    "                                        'mean': [self.df[col].mean() for col in self.num_cols],\n",
    "                                        'median': [self.df[col].median() for col in self.num_cols],\n",
    "                                        'number_of_values': [len([*self.df[col].unique()]) for col in self.num_cols]}, \n",
    "                                       orient='index', columns=self.num_cols))\n",
    "            for col in self.num_cols:\n",
    "                plt.figure()\n",
    "                self.df[col].plot.hist(xlabel=col, figsize=(8, 6), bins=25,\n",
    "                                           title='Histogram Plot of '+col+' column')\n",
    "                plt.show()\n",
    "        else:\n",
    "            print('No numerical columns in the dataset.\\n')\n",
    "            \n",
    "            \n",
    "    def __eda_cat_cols(self):\n",
    "        if len(self.cat_cols) > 0: \n",
    "            display(pd.DataFrame.from_dict({\n",
    "                'most_frequent': [self.df[col].value_counts().keys()[0] for col in self.cat_cols],\n",
    "                'number_of_values': [len([*self.df[col].unique()]) for col in self.cat_cols]},\n",
    "                                           orient='index', columns=self.cat_cols))\n",
    "            \n",
    "            for col in self.cat_cols:\n",
    "                plt.figure()\n",
    "                self.df[col].value_counts().plot(kind='bar', figsize=(8, 6), \n",
    "                                           title='Bar Plot of '+col+' column')\n",
    "                plt.show()\n",
    "        else:\n",
    "            print('No categorical columns in the dataset.\\n')\n",
    "                \n",
    "    \n",
    "    def __eda_non_cat_cols(self):\n",
    "        if len(self.non_cat_cols) > 0:\n",
    "            print('These columns has unique values above {}:'.format(self.cat_cols_max_unique))\n",
    "            for i, col in enumerate(self.non_cat_cols):\n",
    "                print('{}- {} has {} unique values'.format(i+1, col, len([*self.df[col].unique()])))\n",
    "        else: \n",
    "            print('No non categorical columns in the dataset.\\n')"
   ]
  },
  {
   "cell_type": "markdown",
   "metadata": {},
   "source": [
    "# 03 Testing for Possible Error Scenarios\n",
    "We will enter some error values to check if our class will give the correct messages."
   ]
  },
  {
   "cell_type": "markdown",
   "metadata": {},
   "source": [
    "## 03.01 Save Datasets' Paths"
   ]
  },
  {
   "cell_type": "code",
   "execution_count": 3,
   "metadata": {},
   "outputs": [],
   "source": [
    "# Save dataset paths\n",
    "retail_features_path = 'Retail Data Analytics/Features data set.csv'\n",
    "retail_sales_path = 'Retail Data Analytics/sales data-set.csv'\n",
    "retail_stores_path = 'Retail Data Analytics/stores data-set.csv'\n",
    "\n",
    "police_path = 'Data Police shootings/fatal-police-shootings-data.xls'"
   ]
  },
  {
   "cell_type": "markdown",
   "metadata": {},
   "source": [
    "## 03.02 Try Scenarios"
   ]
  },
  {
   "cell_type": "markdown",
   "metadata": {},
   "source": [
    "### 03.02.01 No `link_path` entered"
   ]
  },
  {
   "cell_type": "code",
   "execution_count": 4,
   "metadata": {},
   "outputs": [
    {
     "ename": "ValueError",
     "evalue": "Please enter the dataset link/path.",
     "output_type": "error",
     "traceback": [
      "\u001b[1;31m---------------------------------------------------------------------------\u001b[0m",
      "\u001b[1;31mValueError\u001b[0m                                Traceback (most recent call last)",
      "\u001b[1;32m~\\AppData\\Local\\Temp/ipykernel_3736/3903022997.py\u001b[0m in \u001b[0;36m<module>\u001b[1;34m\u001b[0m\n\u001b[1;32m----> 1\u001b[1;33m \u001b[0mDataset\u001b[0m\u001b[1;33m(\u001b[0m\u001b[1;33m)\u001b[0m\u001b[1;33m\u001b[0m\u001b[1;33m\u001b[0m\u001b[0m\n\u001b[0m",
      "\u001b[1;32m~\\AppData\\Local\\Temp/ipykernel_3736/1089227920.py\u001b[0m in \u001b[0;36m__init__\u001b[1;34m(self, link_path, drop_missing_ratio, cat_cols_max_unique)\u001b[0m\n\u001b[0;32m      5\u001b[0m         \u001b[1;31m# Check if link/path of dataset is entered\u001b[0m\u001b[1;33m\u001b[0m\u001b[1;33m\u001b[0m\u001b[1;33m\u001b[0m\u001b[0m\n\u001b[0;32m      6\u001b[0m         \u001b[1;32mif\u001b[0m \u001b[0mlink_path\u001b[0m \u001b[1;33m==\u001b[0m \u001b[1;34m''\u001b[0m\u001b[1;33m:\u001b[0m\u001b[1;33m\u001b[0m\u001b[1;33m\u001b[0m\u001b[0m\n\u001b[1;32m----> 7\u001b[1;33m             \u001b[1;32mraise\u001b[0m \u001b[0mValueError\u001b[0m\u001b[1;33m(\u001b[0m\u001b[1;34m'Please enter the dataset link/path.'\u001b[0m\u001b[1;33m)\u001b[0m\u001b[1;33m\u001b[0m\u001b[1;33m\u001b[0m\u001b[0m\n\u001b[0m\u001b[0;32m      8\u001b[0m \u001b[1;33m\u001b[0m\u001b[0m\n\u001b[0;32m      9\u001b[0m         \u001b[1;31m# Check the value of drop_missing_ratio is within the range\u001b[0m\u001b[1;33m\u001b[0m\u001b[1;33m\u001b[0m\u001b[1;33m\u001b[0m\u001b[0m\n",
      "\u001b[1;31mValueError\u001b[0m: Please enter the dataset link/path."
     ]
    }
   ],
   "source": [
    "Dataset()"
   ]
  },
  {
   "cell_type": "markdown",
   "metadata": {},
   "source": [
    "### 03.02.02 Wrong `link_path`"
   ]
  },
  {
   "cell_type": "code",
   "execution_count": 5,
   "metadata": {},
   "outputs": [
    {
     "name": "stdout",
     "output_type": "stream",
     "text": [
      "File Not Found!\n"
     ]
    },
    {
     "data": {
      "text/plain": [
       "<__main__.Dataset at 0xb823838>"
      ]
     },
     "execution_count": 5,
     "metadata": {},
     "output_type": "execute_result"
    }
   ],
   "source": [
    "Dataset('1'+retail_features_path)"
   ]
  },
  {
   "cell_type": "markdown",
   "metadata": {},
   "source": [
    "### 03.02.03 Wrong `drop_missing_ratio`"
   ]
  },
  {
   "cell_type": "code",
   "execution_count": 6,
   "metadata": {},
   "outputs": [
    {
     "ename": "ValueError",
     "evalue": "drop_missing_ratio should be between 0 and 1.",
     "output_type": "error",
     "traceback": [
      "\u001b[1;31m---------------------------------------------------------------------------\u001b[0m",
      "\u001b[1;31mValueError\u001b[0m                                Traceback (most recent call last)",
      "\u001b[1;32m~\\AppData\\Local\\Temp/ipykernel_3736/2777133561.py\u001b[0m in \u001b[0;36m<module>\u001b[1;34m\u001b[0m\n\u001b[0;32m      1\u001b[0m \u001b[1;31m# wrong drop_missing_ratio\u001b[0m\u001b[1;33m\u001b[0m\u001b[1;33m\u001b[0m\u001b[1;33m\u001b[0m\u001b[0m\n\u001b[1;32m----> 2\u001b[1;33m \u001b[0mDataset\u001b[0m\u001b[1;33m(\u001b[0m\u001b[0mretail_features_path\u001b[0m\u001b[1;33m,\u001b[0m \u001b[0mdrop_missing_ratio\u001b[0m\u001b[1;33m=\u001b[0m\u001b[1;36m2\u001b[0m\u001b[1;33m)\u001b[0m\u001b[1;33m\u001b[0m\u001b[1;33m\u001b[0m\u001b[0m\n\u001b[0m",
      "\u001b[1;32m~\\AppData\\Local\\Temp/ipykernel_3736/1089227920.py\u001b[0m in \u001b[0;36m__init__\u001b[1;34m(self, link_path, drop_missing_ratio, cat_cols_max_unique)\u001b[0m\n\u001b[0;32m      9\u001b[0m         \u001b[1;31m# Check the value of drop_missing_ratio is within the range\u001b[0m\u001b[1;33m\u001b[0m\u001b[1;33m\u001b[0m\u001b[1;33m\u001b[0m\u001b[0m\n\u001b[0;32m     10\u001b[0m         \u001b[1;32mif\u001b[0m \u001b[1;33m(\u001b[0m\u001b[0mdrop_missing_ratio\u001b[0m \u001b[1;33m<\u001b[0m \u001b[1;36m0\u001b[0m\u001b[1;33m)\u001b[0m \u001b[1;33m|\u001b[0m \u001b[1;33m(\u001b[0m\u001b[0mdrop_missing_ratio\u001b[0m \u001b[1;33m>\u001b[0m \u001b[1;36m1\u001b[0m\u001b[1;33m)\u001b[0m\u001b[1;33m:\u001b[0m\u001b[1;33m\u001b[0m\u001b[1;33m\u001b[0m\u001b[0m\n\u001b[1;32m---> 11\u001b[1;33m             \u001b[1;32mraise\u001b[0m \u001b[0mValueError\u001b[0m\u001b[1;33m(\u001b[0m\u001b[1;34m'drop_missing_ratio should be between 0 and 1.'\u001b[0m\u001b[1;33m)\u001b[0m\u001b[1;33m\u001b[0m\u001b[1;33m\u001b[0m\u001b[0m\n\u001b[0m\u001b[0;32m     12\u001b[0m \u001b[1;33m\u001b[0m\u001b[0m\n\u001b[0;32m     13\u001b[0m         \u001b[1;31m# Check if cat_cols_max_unique is an integer number above or equal 5\u001b[0m\u001b[1;33m\u001b[0m\u001b[1;33m\u001b[0m\u001b[1;33m\u001b[0m\u001b[0m\n",
      "\u001b[1;31mValueError\u001b[0m: drop_missing_ratio should be between 0 and 1."
     ]
    }
   ],
   "source": [
    "# wrong drop_missing_ratio \n",
    "Dataset(retail_features_path, drop_missing_ratio=2)"
   ]
  },
  {
   "cell_type": "markdown",
   "metadata": {},
   "source": [
    "### 03.02.04 Wrong `cat_cols_max_unique` "
   ]
  },
  {
   "cell_type": "code",
   "execution_count": 7,
   "metadata": {},
   "outputs": [
    {
     "ename": "ValueError",
     "evalue": "cat_cols_max_unique should be integer above or equal to 5.",
     "output_type": "error",
     "traceback": [
      "\u001b[1;31m---------------------------------------------------------------------------\u001b[0m",
      "\u001b[1;31mValueError\u001b[0m                                Traceback (most recent call last)",
      "\u001b[1;32m~\\AppData\\Local\\Temp/ipykernel_3736/4121502885.py\u001b[0m in \u001b[0;36m<module>\u001b[1;34m\u001b[0m\n\u001b[0;32m      1\u001b[0m \u001b[1;31m# wrong cat_cols_max_unique\u001b[0m\u001b[1;33m\u001b[0m\u001b[1;33m\u001b[0m\u001b[1;33m\u001b[0m\u001b[0m\n\u001b[1;32m----> 2\u001b[1;33m \u001b[0mDataset\u001b[0m\u001b[1;33m(\u001b[0m\u001b[0mretail_features_path\u001b[0m\u001b[1;33m,\u001b[0m \u001b[0mcat_cols_max_unique\u001b[0m\u001b[1;33m=\u001b[0m\u001b[1;36m2\u001b[0m\u001b[1;33m)\u001b[0m\u001b[1;33m\u001b[0m\u001b[1;33m\u001b[0m\u001b[0m\n\u001b[0m",
      "\u001b[1;32m~\\AppData\\Local\\Temp/ipykernel_3736/1089227920.py\u001b[0m in \u001b[0;36m__init__\u001b[1;34m(self, link_path, drop_missing_ratio, cat_cols_max_unique)\u001b[0m\n\u001b[0;32m     13\u001b[0m         \u001b[1;31m# Check if cat_cols_max_unique is an integer number above or equal 5\u001b[0m\u001b[1;33m\u001b[0m\u001b[1;33m\u001b[0m\u001b[1;33m\u001b[0m\u001b[0m\n\u001b[0;32m     14\u001b[0m         \u001b[1;32mif\u001b[0m \u001b[1;33m(\u001b[0m\u001b[0mcat_cols_max_unique\u001b[0m \u001b[1;33m<\u001b[0m \u001b[1;36m5\u001b[0m\u001b[1;33m)\u001b[0m \u001b[1;33m|\u001b[0m \u001b[1;33m(\u001b[0m\u001b[0mtype\u001b[0m\u001b[1;33m(\u001b[0m\u001b[0mcat_cols_max_unique\u001b[0m\u001b[1;33m)\u001b[0m \u001b[1;33m!=\u001b[0m \u001b[0mint\u001b[0m\u001b[1;33m)\u001b[0m\u001b[1;33m:\u001b[0m\u001b[1;33m\u001b[0m\u001b[1;33m\u001b[0m\u001b[0m\n\u001b[1;32m---> 15\u001b[1;33m             \u001b[1;32mraise\u001b[0m \u001b[0mValueError\u001b[0m\u001b[1;33m(\u001b[0m\u001b[1;34m'cat_cols_max_unique should be integer above or equal to 5.'\u001b[0m\u001b[1;33m)\u001b[0m\u001b[1;33m\u001b[0m\u001b[1;33m\u001b[0m\u001b[0m\n\u001b[0m\u001b[0;32m     16\u001b[0m \u001b[1;33m\u001b[0m\u001b[0m\n\u001b[0;32m     17\u001b[0m         \u001b[1;31m# ---------------- Assign the inputs as object instances variables ----------------\u001b[0m\u001b[1;33m\u001b[0m\u001b[1;33m\u001b[0m\u001b[1;33m\u001b[0m\u001b[0m\n",
      "\u001b[1;31mValueError\u001b[0m: cat_cols_max_unique should be integer above or equal to 5."
     ]
    }
   ],
   "source": [
    "# wrong cat_cols_max_unique\n",
    "Dataset(retail_features_path, cat_cols_max_unique=2)"
   ]
  },
  {
   "cell_type": "markdown",
   "metadata": {},
   "source": [
    "**Perfect**, now lets start exploring our datasets."
   ]
  },
  {
   "cell_type": "markdown",
   "metadata": {},
   "source": [
    "# 04 Retail Data\n",
    "Retail data contains three datasets: `features`, `sales` and `store`."
   ]
  },
  {
   "cell_type": "markdown",
   "metadata": {},
   "source": [
    "## 04.01 Features Dataset"
   ]
  },
  {
   "cell_type": "code",
   "execution_count": 8,
   "metadata": {},
   "outputs": [
    {
     "name": "stdout",
     "output_type": "stream",
     "text": [
      "Loading of dataframe done successfully in your object...\n",
      "\n",
      "We have three attributes in this object:\n",
      " 1- df: The dataframe is saved here.\n",
      " 2- drop_missing_ratio: the minimum ratio of missing data inside the columns to be dropped  current value is 0.2.\n",
      " 3- cat_cols_max_unique: the maximum number of unique values inside non numeric columns any column has more than this number of unique values will not be plotted current value is 15.\n",
      "\n",
      "For the auto cleaning and EDA, call \".output()\" method.\n"
     ]
    }
   ],
   "source": [
    "# define features_dataset object\n",
    "features_dataset = Dataset(link_path=retail_features_path, drop_missing_ratio=0.2)"
   ]
  },
  {
   "cell_type": "code",
   "execution_count": 9,
   "metadata": {},
   "outputs": [
    {
     "name": "stdout",
     "output_type": "stream",
     "text": [
      "---------- Dataframe informations ----------\n",
      "1- Number of columns: 12\n",
      "2- Number of rows: 8190\n",
      "3- First 5 rows:\n"
     ]
    },
    {
     "data": {
      "text/html": [
       "<div>\n",
       "<style scoped>\n",
       "    .dataframe tbody tr th:only-of-type {\n",
       "        vertical-align: middle;\n",
       "    }\n",
       "\n",
       "    .dataframe tbody tr th {\n",
       "        vertical-align: top;\n",
       "    }\n",
       "\n",
       "    .dataframe thead th {\n",
       "        text-align: right;\n",
       "    }\n",
       "</style>\n",
       "<table border=\"1\" class=\"dataframe\">\n",
       "  <thead>\n",
       "    <tr style=\"text-align: right;\">\n",
       "      <th></th>\n",
       "      <th>Store</th>\n",
       "      <th>Date</th>\n",
       "      <th>Temperature</th>\n",
       "      <th>Fuel_Price</th>\n",
       "      <th>MarkDown1</th>\n",
       "      <th>MarkDown2</th>\n",
       "      <th>MarkDown3</th>\n",
       "      <th>MarkDown4</th>\n",
       "      <th>MarkDown5</th>\n",
       "      <th>CPI</th>\n",
       "      <th>Unemployment</th>\n",
       "      <th>IsHoliday</th>\n",
       "    </tr>\n",
       "  </thead>\n",
       "  <tbody>\n",
       "    <tr>\n",
       "      <th>0</th>\n",
       "      <td>1</td>\n",
       "      <td>05/02/2010</td>\n",
       "      <td>42.31</td>\n",
       "      <td>2.572</td>\n",
       "      <td>NaN</td>\n",
       "      <td>NaN</td>\n",
       "      <td>NaN</td>\n",
       "      <td>NaN</td>\n",
       "      <td>NaN</td>\n",
       "      <td>211.096358</td>\n",
       "      <td>8.106</td>\n",
       "      <td>False</td>\n",
       "    </tr>\n",
       "    <tr>\n",
       "      <th>1</th>\n",
       "      <td>1</td>\n",
       "      <td>12/02/2010</td>\n",
       "      <td>38.51</td>\n",
       "      <td>2.548</td>\n",
       "      <td>NaN</td>\n",
       "      <td>NaN</td>\n",
       "      <td>NaN</td>\n",
       "      <td>NaN</td>\n",
       "      <td>NaN</td>\n",
       "      <td>211.242170</td>\n",
       "      <td>8.106</td>\n",
       "      <td>True</td>\n",
       "    </tr>\n",
       "    <tr>\n",
       "      <th>2</th>\n",
       "      <td>1</td>\n",
       "      <td>19/02/2010</td>\n",
       "      <td>39.93</td>\n",
       "      <td>2.514</td>\n",
       "      <td>NaN</td>\n",
       "      <td>NaN</td>\n",
       "      <td>NaN</td>\n",
       "      <td>NaN</td>\n",
       "      <td>NaN</td>\n",
       "      <td>211.289143</td>\n",
       "      <td>8.106</td>\n",
       "      <td>False</td>\n",
       "    </tr>\n",
       "    <tr>\n",
       "      <th>3</th>\n",
       "      <td>1</td>\n",
       "      <td>26/02/2010</td>\n",
       "      <td>46.63</td>\n",
       "      <td>2.561</td>\n",
       "      <td>NaN</td>\n",
       "      <td>NaN</td>\n",
       "      <td>NaN</td>\n",
       "      <td>NaN</td>\n",
       "      <td>NaN</td>\n",
       "      <td>211.319643</td>\n",
       "      <td>8.106</td>\n",
       "      <td>False</td>\n",
       "    </tr>\n",
       "    <tr>\n",
       "      <th>4</th>\n",
       "      <td>1</td>\n",
       "      <td>05/03/2010</td>\n",
       "      <td>46.50</td>\n",
       "      <td>2.625</td>\n",
       "      <td>NaN</td>\n",
       "      <td>NaN</td>\n",
       "      <td>NaN</td>\n",
       "      <td>NaN</td>\n",
       "      <td>NaN</td>\n",
       "      <td>211.350143</td>\n",
       "      <td>8.106</td>\n",
       "      <td>False</td>\n",
       "    </tr>\n",
       "  </tbody>\n",
       "</table>\n",
       "</div>"
      ],
      "text/plain": [
       "   Store        Date  Temperature  Fuel_Price  MarkDown1  MarkDown2  \\\n",
       "0      1  05/02/2010        42.31       2.572        NaN        NaN   \n",
       "1      1  12/02/2010        38.51       2.548        NaN        NaN   \n",
       "2      1  19/02/2010        39.93       2.514        NaN        NaN   \n",
       "3      1  26/02/2010        46.63       2.561        NaN        NaN   \n",
       "4      1  05/03/2010        46.50       2.625        NaN        NaN   \n",
       "\n",
       "   MarkDown3  MarkDown4  MarkDown5         CPI  Unemployment  IsHoliday  \n",
       "0        NaN        NaN        NaN  211.096358         8.106      False  \n",
       "1        NaN        NaN        NaN  211.242170         8.106       True  \n",
       "2        NaN        NaN        NaN  211.289143         8.106      False  \n",
       "3        NaN        NaN        NaN  211.319643         8.106      False  \n",
       "4        NaN        NaN        NaN  211.350143         8.106      False  "
      ]
     },
     "metadata": {},
     "output_type": "display_data"
    },
    {
     "name": "stdout",
     "output_type": "stream",
     "text": [
      "4- Data Types:\n"
     ]
    },
    {
     "data": {
      "text/html": [
       "<div>\n",
       "<style scoped>\n",
       "    .dataframe tbody tr th:only-of-type {\n",
       "        vertical-align: middle;\n",
       "    }\n",
       "\n",
       "    .dataframe tbody tr th {\n",
       "        vertical-align: top;\n",
       "    }\n",
       "\n",
       "    .dataframe thead th {\n",
       "        text-align: right;\n",
       "    }\n",
       "</style>\n",
       "<table border=\"1\" class=\"dataframe\">\n",
       "  <thead>\n",
       "    <tr style=\"text-align: right;\">\n",
       "      <th></th>\n",
       "      <th>columns</th>\n",
       "    </tr>\n",
       "  </thead>\n",
       "  <tbody>\n",
       "    <tr>\n",
       "      <th>numeric</th>\n",
       "      <td>Store, Temperature, Fuel_Price, MarkDown1, MarkDown2, MarkDown3, MarkDown4, MarkDown5, CPI, Unemployment</td>\n",
       "    </tr>\n",
       "    <tr>\n",
       "      <th>categorical</th>\n",
       "      <td>IsHoliday</td>\n",
       "    </tr>\n",
       "    <tr>\n",
       "      <th>non_categorical</th>\n",
       "      <td>Date</td>\n",
       "    </tr>\n",
       "  </tbody>\n",
       "</table>\n",
       "</div>"
      ],
      "text/plain": [
       "                                                                                                                  columns\n",
       "numeric          Store, Temperature, Fuel_Price, MarkDown1, MarkDown2, MarkDown3, MarkDown4, MarkDown5, CPI, Unemployment\n",
       "categorical                                                                                                     IsHoliday\n",
       "non_categorical                                                                                                      Date"
      ]
     },
     "metadata": {},
     "output_type": "display_data"
    },
    {
     "name": "stdout",
     "output_type": "stream",
     "text": [
      "\n",
      "\n",
      "---------- Handling missing values ----------\n",
      "Dataframe has missing values, details are below:\n"
     ]
    },
    {
     "data": {
      "text/html": [
       "<div>\n",
       "<style scoped>\n",
       "    .dataframe tbody tr th:only-of-type {\n",
       "        vertical-align: middle;\n",
       "    }\n",
       "\n",
       "    .dataframe tbody tr th {\n",
       "        vertical-align: top;\n",
       "    }\n",
       "\n",
       "    .dataframe thead th {\n",
       "        text-align: right;\n",
       "    }\n",
       "</style>\n",
       "<table border=\"1\" class=\"dataframe\">\n",
       "  <thead>\n",
       "    <tr style=\"text-align: right;\">\n",
       "      <th></th>\n",
       "      <th>missing_count</th>\n",
       "      <th>missing_ratio</th>\n",
       "    </tr>\n",
       "  </thead>\n",
       "  <tbody>\n",
       "    <tr>\n",
       "      <th>MarkDown2</th>\n",
       "      <td>5269</td>\n",
       "      <td>0.643346</td>\n",
       "    </tr>\n",
       "    <tr>\n",
       "      <th>MarkDown4</th>\n",
       "      <td>4726</td>\n",
       "      <td>0.577045</td>\n",
       "    </tr>\n",
       "    <tr>\n",
       "      <th>MarkDown3</th>\n",
       "      <td>4577</td>\n",
       "      <td>0.558852</td>\n",
       "    </tr>\n",
       "    <tr>\n",
       "      <th>MarkDown1</th>\n",
       "      <td>4158</td>\n",
       "      <td>0.507692</td>\n",
       "    </tr>\n",
       "    <tr>\n",
       "      <th>MarkDown5</th>\n",
       "      <td>4140</td>\n",
       "      <td>0.505495</td>\n",
       "    </tr>\n",
       "    <tr>\n",
       "      <th>CPI</th>\n",
       "      <td>585</td>\n",
       "      <td>0.071429</td>\n",
       "    </tr>\n",
       "    <tr>\n",
       "      <th>Unemployment</th>\n",
       "      <td>585</td>\n",
       "      <td>0.071429</td>\n",
       "    </tr>\n",
       "  </tbody>\n",
       "</table>\n",
       "</div>"
      ],
      "text/plain": [
       "              missing_count  missing_ratio\n",
       "MarkDown2              5269       0.643346\n",
       "MarkDown4              4726       0.577045\n",
       "MarkDown3              4577       0.558852\n",
       "MarkDown1              4158       0.507692\n",
       "MarkDown5              4140       0.505495\n",
       "CPI                     585       0.071429\n",
       "Unemployment            585       0.071429"
      ]
     },
     "metadata": {},
     "output_type": "display_data"
    },
    {
     "name": "stdout",
     "output_type": "stream",
     "text": [
      "We will drop ['MarkDown2', 'MarkDown4', 'MarkDown3', 'MarkDown1', 'MarkDown5'] columns.\n",
      "Filling numerical missing columns with the mean value...\n",
      "\n",
      "\n",
      "Missing values had imputed, now dataframe is ready for EDA.\n",
      "\n",
      "\n",
      "---------- EDA for numerical columns ----------\n"
     ]
    },
    {
     "data": {
      "text/html": [
       "<div>\n",
       "<style scoped>\n",
       "    .dataframe tbody tr th:only-of-type {\n",
       "        vertical-align: middle;\n",
       "    }\n",
       "\n",
       "    .dataframe tbody tr th {\n",
       "        vertical-align: top;\n",
       "    }\n",
       "\n",
       "    .dataframe thead th {\n",
       "        text-align: right;\n",
       "    }\n",
       "</style>\n",
       "<table border=\"1\" class=\"dataframe\">\n",
       "  <thead>\n",
       "    <tr style=\"text-align: right;\">\n",
       "      <th></th>\n",
       "      <th>Store</th>\n",
       "      <th>CPI</th>\n",
       "      <th>Temperature</th>\n",
       "      <th>Unemployment</th>\n",
       "      <th>Fuel_Price</th>\n",
       "    </tr>\n",
       "  </thead>\n",
       "  <tbody>\n",
       "    <tr>\n",
       "      <th>min_value</th>\n",
       "      <td>1.0</td>\n",
       "      <td>126.064000</td>\n",
       "      <td>-7.290000</td>\n",
       "      <td>3.684000</td>\n",
       "      <td>2.472000</td>\n",
       "    </tr>\n",
       "    <tr>\n",
       "      <th>max_value</th>\n",
       "      <td>45.0</td>\n",
       "      <td>228.976456</td>\n",
       "      <td>101.950000</td>\n",
       "      <td>14.313000</td>\n",
       "      <td>4.468000</td>\n",
       "    </tr>\n",
       "    <tr>\n",
       "      <th>mean</th>\n",
       "      <td>23.0</td>\n",
       "      <td>172.460809</td>\n",
       "      <td>59.356198</td>\n",
       "      <td>7.826821</td>\n",
       "      <td>3.405992</td>\n",
       "    </tr>\n",
       "    <tr>\n",
       "      <th>median</th>\n",
       "      <td>23.0</td>\n",
       "      <td>172.460809</td>\n",
       "      <td>60.710000</td>\n",
       "      <td>7.826821</td>\n",
       "      <td>3.513000</td>\n",
       "    </tr>\n",
       "    <tr>\n",
       "      <th>number_of_values</th>\n",
       "      <td>45.0</td>\n",
       "      <td>2506.000000</td>\n",
       "      <td>4178.000000</td>\n",
       "      <td>405.000000</td>\n",
       "      <td>1011.000000</td>\n",
       "    </tr>\n",
       "  </tbody>\n",
       "</table>\n",
       "</div>"
      ],
      "text/plain": [
       "                  Store          CPI  Temperature  Unemployment   Fuel_Price\n",
       "min_value           1.0   126.064000    -7.290000      3.684000     2.472000\n",
       "max_value          45.0   228.976456   101.950000     14.313000     4.468000\n",
       "mean               23.0   172.460809    59.356198      7.826821     3.405992\n",
       "median             23.0   172.460809    60.710000      7.826821     3.513000\n",
       "number_of_values   45.0  2506.000000  4178.000000    405.000000  1011.000000"
      ]
     },
     "metadata": {},
     "output_type": "display_data"
    },
    {
     "data": {
      "image/png": "[encoded data removed]",
      "text/plain": [
       "<Figure size 576x432 with 1 Axes>"
      ]
     },
     "metadata": {
      "needs_background": "light"
     },
     "output_type": "display_data"
    },
    {
     "data": {
      "image/png": "[encoded data removed]",
      "text/plain": [
       "<Figure size 576x432 with 1 Axes>"
      ]
     },
     "metadata": {
      "needs_background": "light"
     },
     "output_type": "display_data"
    },
    {
     "data": {
      "image/png": "[encoded data removed]",
      "text/plain": [
       "<Figure size 576x432 with 1 Axes>"
      ]
     },
     "metadata": {
      "needs_background": "light"
     },
     "output_type": "display_data"
    },
    {
     "data": {
      "image/png": "[encoded data removed]",
      "text/plain": [
       "<Figure size 576x432 with 1 Axes>"
      ]
     },
     "metadata": {
      "needs_background": "light"
     },
     "output_type": "display_data"
    },
    {
     "data": {
      "image/png": "[encoded data removed]",
      "text/plain": [
       "<Figure size 576x432 with 1 Axes>"
      ]
     },
     "metadata": {
      "needs_background": "light"
     },
     "output_type": "display_data"
    },
    {
     "name": "stdout",
     "output_type": "stream",
     "text": [
      "\n",
      "\n",
      "---------- EDA for categorical columns ----------\n"
     ]
    },
    {
     "data": {
      "text/html": [
       "<div>\n",
       "<style scoped>\n",
       "    .dataframe tbody tr th:only-of-type {\n",
       "        vertical-align: middle;\n",
       "    }\n",
       "\n",
       "    .dataframe tbody tr th {\n",
       "        vertical-align: top;\n",
       "    }\n",
       "\n",
       "    .dataframe thead th {\n",
       "        text-align: right;\n",
       "    }\n",
       "</style>\n",
       "<table border=\"1\" class=\"dataframe\">\n",
       "  <thead>\n",
       "    <tr style=\"text-align: right;\">\n",
       "      <th></th>\n",
       "      <th>IsHoliday</th>\n",
       "    </tr>\n",
       "  </thead>\n",
       "  <tbody>\n",
       "    <tr>\n",
       "      <th>most_frequent</th>\n",
       "      <td>False</td>\n",
       "    </tr>\n",
       "    <tr>\n",
       "      <th>number_of_values</th>\n",
       "      <td>2</td>\n",
       "    </tr>\n",
       "  </tbody>\n",
       "</table>\n",
       "</div>"
      ],
      "text/plain": [
       "                 IsHoliday\n",
       "most_frequent        False\n",
       "number_of_values         2"
      ]
     },
     "metadata": {},
     "output_type": "display_data"
    },
    {
     "data": {
      "image/png": "[encoded data removed]",
      "text/plain": [
       "<Figure size 576x432 with 1 Axes>"
      ]
     },
     "metadata": {
      "needs_background": "light"
     },
     "output_type": "display_data"
    },
    {
     "name": "stdout",
     "output_type": "stream",
     "text": [
      "\n",
      "\n",
      "---------- EDA for non categorical columns ----------\n",
      "These columns has unique values above 15:\n",
      "1- Date has 182 unique values\n"
     ]
    }
   ],
   "source": [
    "# calling output()\n",
    "features_dataset.output()"
   ]
  },
  {
   "cell_type": "markdown",
   "metadata": {},
   "source": [
    "## 04.02 Sales Dataset"
   ]
  },
  {
   "cell_type": "code",
   "execution_count": 10,
   "metadata": {},
   "outputs": [
    {
     "name": "stdout",
     "output_type": "stream",
     "text": [
      "Loading of dataframe done successfully in your object...\n",
      "\n",
      "We have three attributes in this object:\n",
      " 1- df: The dataframe is saved here.\n",
      " 2- drop_missing_ratio: the minimum ratio of missing data inside the columns to be dropped  current value is 0.2.\n",
      " 3- cat_cols_max_unique: the maximum number of unique values inside non numeric columns any column has more than this number of unique values will not be plotted current value is 15.\n",
      "\n",
      "For the auto cleaning and EDA, call \".output()\" method.\n"
     ]
    }
   ],
   "source": [
    "# define sales_dataset object\n",
    "sales_dataset = Dataset(link_path=retail_sales_path, drop_missing_ratio=0.2)"
   ]
  },
  {
   "cell_type": "code",
   "execution_count": 11,
   "metadata": {},
   "outputs": [
    {
     "name": "stdout",
     "output_type": "stream",
     "text": [
      "---------- Dataframe informations ----------\n",
      "1- Number of columns: 5\n",
      "2- Number of rows: 421570\n",
      "3- First 5 rows:\n"
     ]
    },
    {
     "data": {
      "text/html": [
       "<div>\n",
       "<style scoped>\n",
       "    .dataframe tbody tr th:only-of-type {\n",
       "        vertical-align: middle;\n",
       "    }\n",
       "\n",
       "    .dataframe tbody tr th {\n",
       "        vertical-align: top;\n",
       "    }\n",
       "\n",
       "    .dataframe thead th {\n",
       "        text-align: right;\n",
       "    }\n",
       "</style>\n",
       "<table border=\"1\" class=\"dataframe\">\n",
       "  <thead>\n",
       "    <tr style=\"text-align: right;\">\n",
       "      <th></th>\n",
       "      <th>Store</th>\n",
       "      <th>Dept</th>\n",
       "      <th>Date</th>\n",
       "      <th>Weekly_Sales</th>\n",
       "      <th>IsHoliday</th>\n",
       "    </tr>\n",
       "  </thead>\n",
       "  <tbody>\n",
       "    <tr>\n",
       "      <th>0</th>\n",
       "      <td>1</td>\n",
       "      <td>1</td>\n",
       "      <td>05/02/2010</td>\n",
       "      <td>24924.50</td>\n",
       "      <td>False</td>\n",
       "    </tr>\n",
       "    <tr>\n",
       "      <th>1</th>\n",
       "      <td>1</td>\n",
       "      <td>1</td>\n",
       "      <td>12/02/2010</td>\n",
       "      <td>46039.49</td>\n",
       "      <td>True</td>\n",
       "    </tr>\n",
       "    <tr>\n",
       "      <th>2</th>\n",
       "      <td>1</td>\n",
       "      <td>1</td>\n",
       "      <td>19/02/2010</td>\n",
       "      <td>41595.55</td>\n",
       "      <td>False</td>\n",
       "    </tr>\n",
       "    <tr>\n",
       "      <th>3</th>\n",
       "      <td>1</td>\n",
       "      <td>1</td>\n",
       "      <td>26/02/2010</td>\n",
       "      <td>19403.54</td>\n",
       "      <td>False</td>\n",
       "    </tr>\n",
       "    <tr>\n",
       "      <th>4</th>\n",
       "      <td>1</td>\n",
       "      <td>1</td>\n",
       "      <td>05/03/2010</td>\n",
       "      <td>21827.90</td>\n",
       "      <td>False</td>\n",
       "    </tr>\n",
       "  </tbody>\n",
       "</table>\n",
       "</div>"
      ],
      "text/plain": [
       "   Store  Dept        Date  Weekly_Sales  IsHoliday\n",
       "0      1     1  05/02/2010      24924.50      False\n",
       "1      1     1  12/02/2010      46039.49       True\n",
       "2      1     1  19/02/2010      41595.55      False\n",
       "3      1     1  26/02/2010      19403.54      False\n",
       "4      1     1  05/03/2010      21827.90      False"
      ]
     },
     "metadata": {},
     "output_type": "display_data"
    },
    {
     "name": "stdout",
     "output_type": "stream",
     "text": [
      "4- Data Types:\n"
     ]
    },
    {
     "data": {
      "text/html": [
       "<div>\n",
       "<style scoped>\n",
       "    .dataframe tbody tr th:only-of-type {\n",
       "        vertical-align: middle;\n",
       "    }\n",
       "\n",
       "    .dataframe tbody tr th {\n",
       "        vertical-align: top;\n",
       "    }\n",
       "\n",
       "    .dataframe thead th {\n",
       "        text-align: right;\n",
       "    }\n",
       "</style>\n",
       "<table border=\"1\" class=\"dataframe\">\n",
       "  <thead>\n",
       "    <tr style=\"text-align: right;\">\n",
       "      <th></th>\n",
       "      <th>columns</th>\n",
       "    </tr>\n",
       "  </thead>\n",
       "  <tbody>\n",
       "    <tr>\n",
       "      <th>numeric</th>\n",
       "      <td>Store, Dept, Weekly_Sales</td>\n",
       "    </tr>\n",
       "    <tr>\n",
       "      <th>categorical</th>\n",
       "      <td>IsHoliday</td>\n",
       "    </tr>\n",
       "    <tr>\n",
       "      <th>non_categorical</th>\n",
       "      <td>Date</td>\n",
       "    </tr>\n",
       "  </tbody>\n",
       "</table>\n",
       "</div>"
      ],
      "text/plain": [
       "                                   columns\n",
       "numeric          Store, Dept, Weekly_Sales\n",
       "categorical                      IsHoliday\n",
       "non_categorical                       Date"
      ]
     },
     "metadata": {},
     "output_type": "display_data"
    },
    {
     "name": "stdout",
     "output_type": "stream",
     "text": [
      "\n",
      "\n",
      "---------- Handling missing values ----------\n",
      "Congrats, dataframe does not have missing values.\n",
      "\n",
      "\n",
      "---------- EDA for numerical columns ----------\n"
     ]
    },
    {
     "data": {
      "text/html": [
       "<div>\n",
       "<style scoped>\n",
       "    .dataframe tbody tr th:only-of-type {\n",
       "        vertical-align: middle;\n",
       "    }\n",
       "\n",
       "    .dataframe tbody tr th {\n",
       "        vertical-align: top;\n",
       "    }\n",
       "\n",
       "    .dataframe thead th {\n",
       "        text-align: right;\n",
       "    }\n",
       "</style>\n",
       "<table border=\"1\" class=\"dataframe\">\n",
       "  <thead>\n",
       "    <tr style=\"text-align: right;\">\n",
       "      <th></th>\n",
       "      <th>Store</th>\n",
       "      <th>Dept</th>\n",
       "      <th>Weekly_Sales</th>\n",
       "    </tr>\n",
       "  </thead>\n",
       "  <tbody>\n",
       "    <tr>\n",
       "      <th>min_value</th>\n",
       "      <td>1.000000</td>\n",
       "      <td>1.000000</td>\n",
       "      <td>-4988.940000</td>\n",
       "    </tr>\n",
       "    <tr>\n",
       "      <th>max_value</th>\n",
       "      <td>45.000000</td>\n",
       "      <td>99.000000</td>\n",
       "      <td>693099.360000</td>\n",
       "    </tr>\n",
       "    <tr>\n",
       "      <th>mean</th>\n",
       "      <td>22.200546</td>\n",
       "      <td>44.260317</td>\n",
       "      <td>15981.258123</td>\n",
       "    </tr>\n",
       "    <tr>\n",
       "      <th>median</th>\n",
       "      <td>22.000000</td>\n",
       "      <td>37.000000</td>\n",
       "      <td>7612.030000</td>\n",
       "    </tr>\n",
       "    <tr>\n",
       "      <th>number_of_values</th>\n",
       "      <td>45.000000</td>\n",
       "      <td>81.000000</td>\n",
       "      <td>359464.000000</td>\n",
       "    </tr>\n",
       "  </tbody>\n",
       "</table>\n",
       "</div>"
      ],
      "text/plain": [
       "                      Store       Dept   Weekly_Sales\n",
       "min_value          1.000000   1.000000   -4988.940000\n",
       "max_value         45.000000  99.000000  693099.360000\n",
       "mean              22.200546  44.260317   15981.258123\n",
       "median            22.000000  37.000000    7612.030000\n",
       "number_of_values  45.000000  81.000000  359464.000000"
      ]
     },
     "metadata": {},
     "output_type": "display_data"
    },
    {
     "data": {
      "image/png": "[encoded data removed]",
      "text/plain": [
       "<Figure size 576x432 with 1 Axes>"
      ]
     },
     "metadata": {
      "needs_background": "light"
     },
     "output_type": "display_data"
    },
    {
     "data": {
      "image/png": "[encoded data removed]",
      "text/plain": [
       "<Figure size 576x432 with 1 Axes>"
      ]
     },
     "metadata": {
      "needs_background": "light"
     },
     "output_type": "display_data"
    },
    {
     "data": {
      "image/png": "[encoded data removed]",
      "text/plain": [
       "<Figure size 576x432 with 1 Axes>"
      ]
     },
     "metadata": {
      "needs_background": "light"
     },
     "output_type": "display_data"
    },
    {
     "name": "stdout",
     "output_type": "stream",
     "text": [
      "\n",
      "\n",
      "---------- EDA for categorical columns ----------\n"
     ]
    },
    {
     "data": {
      "text/html": [
       "<div>\n",
       "<style scoped>\n",
       "    .dataframe tbody tr th:only-of-type {\n",
       "        vertical-align: middle;\n",
       "    }\n",
       "\n",
       "    .dataframe tbody tr th {\n",
       "        vertical-align: top;\n",
       "    }\n",
       "\n",
       "    .dataframe thead th {\n",
       "        text-align: right;\n",
       "    }\n",
       "</style>\n",
       "<table border=\"1\" class=\"dataframe\">\n",
       "  <thead>\n",
       "    <tr style=\"text-align: right;\">\n",
       "      <th></th>\n",
       "      <th>IsHoliday</th>\n",
       "    </tr>\n",
       "  </thead>\n",
       "  <tbody>\n",
       "    <tr>\n",
       "      <th>most_frequent</th>\n",
       "      <td>False</td>\n",
       "    </tr>\n",
       "    <tr>\n",
       "      <th>number_of_values</th>\n",
       "      <td>2</td>\n",
       "    </tr>\n",
       "  </tbody>\n",
       "</table>\n",
       "</div>"
      ],
      "text/plain": [
       "                 IsHoliday\n",
       "most_frequent        False\n",
       "number_of_values         2"
      ]
     },
     "metadata": {},
     "output_type": "display_data"
    },
    {
     "data": {
      "image/png": "[encoded data removed]",
      "text/plain": [
       "<Figure size 576x432 with 1 Axes>"
      ]
     },
     "metadata": {
      "needs_background": "light"
     },
     "output_type": "display_data"
    },
    {
     "name": "stdout",
     "output_type": "stream",
     "text": [
      "\n",
      "\n",
      "---------- EDA for non categorical columns ----------\n",
      "These columns has unique values above 15:\n",
      "1- Date has 143 unique values\n"
     ]
    }
   ],
   "source": [
    "# call output()\n",
    "sales_dataset.output()"
   ]
  },
  {
   "cell_type": "markdown",
   "metadata": {},
   "source": [
    "## 04.03 Stores Datset"
   ]
  },
  {
   "cell_type": "code",
   "execution_count": 12,
   "metadata": {},
   "outputs": [
    {
     "name": "stdout",
     "output_type": "stream",
     "text": [
      "Loading of dataframe done successfully in your object...\n",
      "\n",
      "We have three attributes in this object:\n",
      " 1- df: The dataframe is saved here.\n",
      " 2- drop_missing_ratio: the minimum ratio of missing data inside the columns to be dropped  current value is 0.2.\n",
      " 3- cat_cols_max_unique: the maximum number of unique values inside non numeric columns any column has more than this number of unique values will not be plotted current value is 15.\n",
      "\n",
      "For the auto cleaning and EDA, call \".output()\" method.\n"
     ]
    }
   ],
   "source": [
    "# define stores_dataset object\n",
    "stores_dataset = Dataset(link_path=retail_stores_path, drop_missing_ratio=0.2)"
   ]
  },
  {
   "cell_type": "code",
   "execution_count": 13,
   "metadata": {},
   "outputs": [
    {
     "name": "stdout",
     "output_type": "stream",
     "text": [
      "---------- Dataframe informations ----------\n",
      "1- Number of columns: 3\n",
      "2- Number of rows: 45\n",
      "3- First 5 rows:\n"
     ]
    },
    {
     "data": {
      "text/html": [
       "<div>\n",
       "<style scoped>\n",
       "    .dataframe tbody tr th:only-of-type {\n",
       "        vertical-align: middle;\n",
       "    }\n",
       "\n",
       "    .dataframe tbody tr th {\n",
       "        vertical-align: top;\n",
       "    }\n",
       "\n",
       "    .dataframe thead th {\n",
       "        text-align: right;\n",
       "    }\n",
       "</style>\n",
       "<table border=\"1\" class=\"dataframe\">\n",
       "  <thead>\n",
       "    <tr style=\"text-align: right;\">\n",
       "      <th></th>\n",
       "      <th>Store</th>\n",
       "      <th>Type</th>\n",
       "      <th>Size</th>\n",
       "    </tr>\n",
       "  </thead>\n",
       "  <tbody>\n",
       "    <tr>\n",
       "      <th>0</th>\n",
       "      <td>1</td>\n",
       "      <td>A</td>\n",
       "      <td>151315</td>\n",
       "    </tr>\n",
       "    <tr>\n",
       "      <th>1</th>\n",
       "      <td>2</td>\n",
       "      <td>A</td>\n",
       "      <td>202307</td>\n",
       "    </tr>\n",
       "    <tr>\n",
       "      <th>2</th>\n",
       "      <td>3</td>\n",
       "      <td>B</td>\n",
       "      <td>37392</td>\n",
       "    </tr>\n",
       "    <tr>\n",
       "      <th>3</th>\n",
       "      <td>4</td>\n",
       "      <td>A</td>\n",
       "      <td>205863</td>\n",
       "    </tr>\n",
       "    <tr>\n",
       "      <th>4</th>\n",
       "      <td>5</td>\n",
       "      <td>B</td>\n",
       "      <td>34875</td>\n",
       "    </tr>\n",
       "  </tbody>\n",
       "</table>\n",
       "</div>"
      ],
      "text/plain": [
       "   Store Type    Size\n",
       "0      1    A  151315\n",
       "1      2    A  202307\n",
       "2      3    B   37392\n",
       "3      4    A  205863\n",
       "4      5    B   34875"
      ]
     },
     "metadata": {},
     "output_type": "display_data"
    },
    {
     "name": "stdout",
     "output_type": "stream",
     "text": [
      "4- Data Types:\n"
     ]
    },
    {
     "data": {
      "text/html": [
       "<div>\n",
       "<style scoped>\n",
       "    .dataframe tbody tr th:only-of-type {\n",
       "        vertical-align: middle;\n",
       "    }\n",
       "\n",
       "    .dataframe tbody tr th {\n",
       "        vertical-align: top;\n",
       "    }\n",
       "\n",
       "    .dataframe thead th {\n",
       "        text-align: right;\n",
       "    }\n",
       "</style>\n",
       "<table border=\"1\" class=\"dataframe\">\n",
       "  <thead>\n",
       "    <tr style=\"text-align: right;\">\n",
       "      <th></th>\n",
       "      <th>columns</th>\n",
       "    </tr>\n",
       "  </thead>\n",
       "  <tbody>\n",
       "    <tr>\n",
       "      <th>numeric</th>\n",
       "      <td>Store, Size</td>\n",
       "    </tr>\n",
       "    <tr>\n",
       "      <th>categorical</th>\n",
       "      <td>Type</td>\n",
       "    </tr>\n",
       "    <tr>\n",
       "      <th>non_categorical</th>\n",
       "      <td>None</td>\n",
       "    </tr>\n",
       "  </tbody>\n",
       "</table>\n",
       "</div>"
      ],
      "text/plain": [
       "                     columns\n",
       "numeric          Store, Size\n",
       "categorical             Type\n",
       "non_categorical         None"
      ]
     },
     "metadata": {},
     "output_type": "display_data"
    },
    {
     "name": "stdout",
     "output_type": "stream",
     "text": [
      "\n",
      "\n",
      "---------- Handling missing values ----------\n",
      "Congrats, dataframe does not have missing values.\n",
      "\n",
      "\n",
      "---------- EDA for numerical columns ----------\n"
     ]
    },
    {
     "data": {
      "text/html": [
       "<div>\n",
       "<style scoped>\n",
       "    .dataframe tbody tr th:only-of-type {\n",
       "        vertical-align: middle;\n",
       "    }\n",
       "\n",
       "    .dataframe tbody tr th {\n",
       "        vertical-align: top;\n",
       "    }\n",
       "\n",
       "    .dataframe thead th {\n",
       "        text-align: right;\n",
       "    }\n",
       "</style>\n",
       "<table border=\"1\" class=\"dataframe\">\n",
       "  <thead>\n",
       "    <tr style=\"text-align: right;\">\n",
       "      <th></th>\n",
       "      <th>Store</th>\n",
       "      <th>Size</th>\n",
       "    </tr>\n",
       "  </thead>\n",
       "  <tbody>\n",
       "    <tr>\n",
       "      <th>min_value</th>\n",
       "      <td>1.0</td>\n",
       "      <td>34875.0</td>\n",
       "    </tr>\n",
       "    <tr>\n",
       "      <th>max_value</th>\n",
       "      <td>45.0</td>\n",
       "      <td>219622.0</td>\n",
       "    </tr>\n",
       "    <tr>\n",
       "      <th>mean</th>\n",
       "      <td>23.0</td>\n",
       "      <td>130287.6</td>\n",
       "    </tr>\n",
       "    <tr>\n",
       "      <th>median</th>\n",
       "      <td>23.0</td>\n",
       "      <td>126512.0</td>\n",
       "    </tr>\n",
       "    <tr>\n",
       "      <th>number_of_values</th>\n",
       "      <td>45.0</td>\n",
       "      <td>40.0</td>\n",
       "    </tr>\n",
       "  </tbody>\n",
       "</table>\n",
       "</div>"
      ],
      "text/plain": [
       "                  Store      Size\n",
       "min_value           1.0   34875.0\n",
       "max_value          45.0  219622.0\n",
       "mean               23.0  130287.6\n",
       "median             23.0  126512.0\n",
       "number_of_values   45.0      40.0"
      ]
     },
     "metadata": {},
     "output_type": "display_data"
    },
    {
     "data": {
      "image/png": "[encoded data removed]",
      "text/plain": [
       "<Figure size 576x432 with 1 Axes>"
      ]
     },
     "metadata": {
      "needs_background": "light"
     },
     "output_type": "display_data"
    },
    {
     "data": {
      "image/png": "[encoded data removed]",
      "text/plain": [
       "<Figure size 576x432 with 1 Axes>"
      ]
     },
     "metadata": {
      "needs_background": "light"
     },
     "output_type": "display_data"
    },
    {
     "name": "stdout",
     "output_type": "stream",
     "text": [
      "\n",
      "\n",
      "---------- EDA for categorical columns ----------\n"
     ]
    },
    {
     "data": {
      "text/html": [
       "<div>\n",
       "<style scoped>\n",
       "    .dataframe tbody tr th:only-of-type {\n",
       "        vertical-align: middle;\n",
       "    }\n",
       "\n",
       "    .dataframe tbody tr th {\n",
       "        vertical-align: top;\n",
       "    }\n",
       "\n",
       "    .dataframe thead th {\n",
       "        text-align: right;\n",
       "    }\n",
       "</style>\n",
       "<table border=\"1\" class=\"dataframe\">\n",
       "  <thead>\n",
       "    <tr style=\"text-align: right;\">\n",
       "      <th></th>\n",
       "      <th>Type</th>\n",
       "    </tr>\n",
       "  </thead>\n",
       "  <tbody>\n",
       "    <tr>\n",
       "      <th>most_frequent</th>\n",
       "      <td>A</td>\n",
       "    </tr>\n",
       "    <tr>\n",
       "      <th>number_of_values</th>\n",
       "      <td>3</td>\n",
       "    </tr>\n",
       "  </tbody>\n",
       "</table>\n",
       "</div>"
      ],
      "text/plain": [
       "                 Type\n",
       "most_frequent       A\n",
       "number_of_values    3"
      ]
     },
     "metadata": {},
     "output_type": "display_data"
    },
    {
     "data": {
      "image/png": "[encoded data removed]",
      "text/plain": [
       "<Figure size 576x432 with 1 Axes>"
      ]
     },
     "metadata": {
      "needs_background": "light"
     },
     "output_type": "display_data"
    },
    {
     "name": "stdout",
     "output_type": "stream",
     "text": [
      "\n",
      "\n",
      "---------- EDA for non categorical columns ----------\n",
      "No non categorical columns in the dataset.\n",
      "\n"
     ]
    }
   ],
   "source": [
    "# call output()\n",
    "stores_dataset.output()"
   ]
  },
  {
   "cell_type": "markdown",
   "metadata": {},
   "source": [
    "# 05 Police Dataset"
   ]
  },
  {
   "cell_type": "code",
   "execution_count": 14,
   "metadata": {},
   "outputs": [
    {
     "name": "stdout",
     "output_type": "stream",
     "text": [
      "Loading of dataframe done successfully in your object...\n",
      "\n",
      "We have three attributes in this object:\n",
      " 1- df: The dataframe is saved here.\n",
      " 2- drop_missing_ratio: the minimum ratio of missing data inside the columns to be dropped  current value is 0.2.\n",
      " 3- cat_cols_max_unique: the maximum number of unique values inside non numeric columns any column has more than this number of unique values will not be plotted current value is 15.\n",
      "\n",
      "For the auto cleaning and EDA, call \".output()\" method.\n"
     ]
    }
   ],
   "source": [
    "# define police_dataset object\n",
    "police_dataset = Dataset(link_path=police_path, drop_missing_ratio=0.2)"
   ]
  },
  {
   "cell_type": "code",
   "execution_count": 15,
   "metadata": {},
   "outputs": [
    {
     "name": "stdout",
     "output_type": "stream",
     "text": [
      "---------- Dataframe informations ----------\n",
      "1- Number of columns: 14\n",
      "2- Number of rows: 5416\n",
      "3- First 5 rows:\n"
     ]
    },
    {
     "data": {
      "text/html": [
       "<div>\n",
       "<style scoped>\n",
       "    .dataframe tbody tr th:only-of-type {\n",
       "        vertical-align: middle;\n",
       "    }\n",
       "\n",
       "    .dataframe tbody tr th {\n",
       "        vertical-align: top;\n",
       "    }\n",
       "\n",
       "    .dataframe thead th {\n",
       "        text-align: right;\n",
       "    }\n",
       "</style>\n",
       "<table border=\"1\" class=\"dataframe\">\n",
       "  <thead>\n",
       "    <tr style=\"text-align: right;\">\n",
       "      <th></th>\n",
       "      <th>id</th>\n",
       "      <th>name</th>\n",
       "      <th>date</th>\n",
       "      <th>manner_of_death</th>\n",
       "      <th>armed</th>\n",
       "      <th>age</th>\n",
       "      <th>gender</th>\n",
       "      <th>race</th>\n",
       "      <th>city</th>\n",
       "      <th>state</th>\n",
       "      <th>signs_of_mental_illness</th>\n",
       "      <th>threat_level</th>\n",
       "      <th>flee</th>\n",
       "      <th>body_camera</th>\n",
       "    </tr>\n",
       "  </thead>\n",
       "  <tbody>\n",
       "    <tr>\n",
       "      <th>0</th>\n",
       "      <td>3</td>\n",
       "      <td>Tim Elliot</td>\n",
       "      <td>2015-01-02</td>\n",
       "      <td>shot</td>\n",
       "      <td>gun</td>\n",
       "      <td>53.0</td>\n",
       "      <td>M</td>\n",
       "      <td>A</td>\n",
       "      <td>Shelton</td>\n",
       "      <td>WA</td>\n",
       "      <td>True</td>\n",
       "      <td>attack</td>\n",
       "      <td>Not fleeing</td>\n",
       "      <td>False</td>\n",
       "    </tr>\n",
       "    <tr>\n",
       "      <th>1</th>\n",
       "      <td>4</td>\n",
       "      <td>Lewis Lee Lembke</td>\n",
       "      <td>2015-01-02</td>\n",
       "      <td>shot</td>\n",
       "      <td>gun</td>\n",
       "      <td>47.0</td>\n",
       "      <td>M</td>\n",
       "      <td>W</td>\n",
       "      <td>Aloha</td>\n",
       "      <td>OR</td>\n",
       "      <td>False</td>\n",
       "      <td>attack</td>\n",
       "      <td>Not fleeing</td>\n",
       "      <td>False</td>\n",
       "    </tr>\n",
       "    <tr>\n",
       "      <th>2</th>\n",
       "      <td>5</td>\n",
       "      <td>John Paul Quintero</td>\n",
       "      <td>2015-01-03</td>\n",
       "      <td>shot and Tasered</td>\n",
       "      <td>unarmed</td>\n",
       "      <td>23.0</td>\n",
       "      <td>M</td>\n",
       "      <td>H</td>\n",
       "      <td>Wichita</td>\n",
       "      <td>KS</td>\n",
       "      <td>False</td>\n",
       "      <td>other</td>\n",
       "      <td>Not fleeing</td>\n",
       "      <td>False</td>\n",
       "    </tr>\n",
       "    <tr>\n",
       "      <th>3</th>\n",
       "      <td>8</td>\n",
       "      <td>Matthew Hoffman</td>\n",
       "      <td>2015-01-04</td>\n",
       "      <td>shot</td>\n",
       "      <td>toy weapon</td>\n",
       "      <td>32.0</td>\n",
       "      <td>M</td>\n",
       "      <td>W</td>\n",
       "      <td>San Francisco</td>\n",
       "      <td>CA</td>\n",
       "      <td>True</td>\n",
       "      <td>attack</td>\n",
       "      <td>Not fleeing</td>\n",
       "      <td>False</td>\n",
       "    </tr>\n",
       "    <tr>\n",
       "      <th>4</th>\n",
       "      <td>9</td>\n",
       "      <td>Michael Rodriguez</td>\n",
       "      <td>2015-01-04</td>\n",
       "      <td>shot</td>\n",
       "      <td>nail gun</td>\n",
       "      <td>39.0</td>\n",
       "      <td>M</td>\n",
       "      <td>H</td>\n",
       "      <td>Evans</td>\n",
       "      <td>CO</td>\n",
       "      <td>False</td>\n",
       "      <td>attack</td>\n",
       "      <td>Not fleeing</td>\n",
       "      <td>False</td>\n",
       "    </tr>\n",
       "  </tbody>\n",
       "</table>\n",
       "</div>"
      ],
      "text/plain": [
       "   id                name        date   manner_of_death       armed   age  \\\n",
       "0   3          Tim Elliot  2015-01-02              shot         gun  53.0   \n",
       "1   4    Lewis Lee Lembke  2015-01-02              shot         gun  47.0   \n",
       "2   5  John Paul Quintero  2015-01-03  shot and Tasered     unarmed  23.0   \n",
       "3   8     Matthew Hoffman  2015-01-04              shot  toy weapon  32.0   \n",
       "4   9   Michael Rodriguez  2015-01-04              shot    nail gun  39.0   \n",
       "\n",
       "  gender race           city state  signs_of_mental_illness threat_level  \\\n",
       "0      M    A        Shelton    WA                     True       attack   \n",
       "1      M    W          Aloha    OR                    False       attack   \n",
       "2      M    H        Wichita    KS                    False        other   \n",
       "3      M    W  San Francisco    CA                     True       attack   \n",
       "4      M    H          Evans    CO                    False       attack   \n",
       "\n",
       "          flee  body_camera  \n",
       "0  Not fleeing        False  \n",
       "1  Not fleeing        False  \n",
       "2  Not fleeing        False  \n",
       "3  Not fleeing        False  \n",
       "4  Not fleeing        False  "
      ]
     },
     "metadata": {},
     "output_type": "display_data"
    },
    {
     "name": "stdout",
     "output_type": "stream",
     "text": [
      "4- Data Types:\n"
     ]
    },
    {
     "data": {
      "text/html": [
       "<div>\n",
       "<style scoped>\n",
       "    .dataframe tbody tr th:only-of-type {\n",
       "        vertical-align: middle;\n",
       "    }\n",
       "\n",
       "    .dataframe tbody tr th {\n",
       "        vertical-align: top;\n",
       "    }\n",
       "\n",
       "    .dataframe thead th {\n",
       "        text-align: right;\n",
       "    }\n",
       "</style>\n",
       "<table border=\"1\" class=\"dataframe\">\n",
       "  <thead>\n",
       "    <tr style=\"text-align: right;\">\n",
       "      <th></th>\n",
       "      <th>columns</th>\n",
       "    </tr>\n",
       "  </thead>\n",
       "  <tbody>\n",
       "    <tr>\n",
       "      <th>numeric</th>\n",
       "      <td>id, age</td>\n",
       "    </tr>\n",
       "    <tr>\n",
       "      <th>categorical</th>\n",
       "      <td>manner_of_death, gender, race, signs_of_mental_illness, threat_level, flee, body_camera</td>\n",
       "    </tr>\n",
       "    <tr>\n",
       "      <th>non_categorical</th>\n",
       "      <td>name, date, armed, city, state</td>\n",
       "    </tr>\n",
       "  </tbody>\n",
       "</table>\n",
       "</div>"
      ],
      "text/plain": [
       "                                                                                                 columns\n",
       "numeric                                                                                          id, age\n",
       "categorical      manner_of_death, gender, race, signs_of_mental_illness, threat_level, flee, body_camera\n",
       "non_categorical                                                           name, date, armed, city, state"
      ]
     },
     "metadata": {},
     "output_type": "display_data"
    },
    {
     "name": "stdout",
     "output_type": "stream",
     "text": [
      "\n",
      "\n",
      "---------- Handling missing values ----------\n",
      "Dataframe has missing values, details are below:\n"
     ]
    },
    {
     "data": {
      "text/html": [
       "<div>\n",
       "<style scoped>\n",
       "    .dataframe tbody tr th:only-of-type {\n",
       "        vertical-align: middle;\n",
       "    }\n",
       "\n",
       "    .dataframe tbody tr th {\n",
       "        vertical-align: top;\n",
       "    }\n",
       "\n",
       "    .dataframe thead th {\n",
       "        text-align: right;\n",
       "    }\n",
       "</style>\n",
       "<table border=\"1\" class=\"dataframe\">\n",
       "  <thead>\n",
       "    <tr style=\"text-align: right;\">\n",
       "      <th></th>\n",
       "      <th>missing_count</th>\n",
       "      <th>missing_ratio</th>\n",
       "    </tr>\n",
       "  </thead>\n",
       "  <tbody>\n",
       "    <tr>\n",
       "      <th>race</th>\n",
       "      <td>521</td>\n",
       "      <td>0.096196</td>\n",
       "    </tr>\n",
       "    <tr>\n",
       "      <th>flee</th>\n",
       "      <td>249</td>\n",
       "      <td>0.045975</td>\n",
       "    </tr>\n",
       "    <tr>\n",
       "      <th>age</th>\n",
       "      <td>235</td>\n",
       "      <td>0.043390</td>\n",
       "    </tr>\n",
       "    <tr>\n",
       "      <th>armed</th>\n",
       "      <td>227</td>\n",
       "      <td>0.041913</td>\n",
       "    </tr>\n",
       "    <tr>\n",
       "      <th>gender</th>\n",
       "      <td>2</td>\n",
       "      <td>0.000369</td>\n",
       "    </tr>\n",
       "  </tbody>\n",
       "</table>\n",
       "</div>"
      ],
      "text/plain": [
       "        missing_count  missing_ratio\n",
       "race              521       0.096196\n",
       "flee              249       0.045975\n",
       "age               235       0.043390\n",
       "armed             227       0.041913\n",
       "gender              2       0.000369"
      ]
     },
     "metadata": {},
     "output_type": "display_data"
    },
    {
     "name": "stdout",
     "output_type": "stream",
     "text": [
      "Filling numerical missing columns with the mean value...\n",
      "Filling categorical missing columns with the most frequent value...\n",
      "Filling non categorical missing columns with (Not Applicable) string...\n",
      "\n",
      "\n",
      "Missing values had imputed, now dataframe is ready for EDA.\n",
      "\n",
      "\n",
      "---------- EDA for numerical columns ----------\n"
     ]
    },
    {
     "data": {
      "text/html": [
       "<div>\n",
       "<style scoped>\n",
       "    .dataframe tbody tr th:only-of-type {\n",
       "        vertical-align: middle;\n",
       "    }\n",
       "\n",
       "    .dataframe tbody tr th {\n",
       "        vertical-align: top;\n",
       "    }\n",
       "\n",
       "    .dataframe thead th {\n",
       "        text-align: right;\n",
       "    }\n",
       "</style>\n",
       "<table border=\"1\" class=\"dataframe\">\n",
       "  <thead>\n",
       "    <tr style=\"text-align: right;\">\n",
       "      <th></th>\n",
       "      <th>id</th>\n",
       "      <th>age</th>\n",
       "    </tr>\n",
       "  </thead>\n",
       "  <tbody>\n",
       "    <tr>\n",
       "      <th>min_value</th>\n",
       "      <td>3.000000</td>\n",
       "      <td>6.000000</td>\n",
       "    </tr>\n",
       "    <tr>\n",
       "      <th>max_value</th>\n",
       "      <td>5927.000000</td>\n",
       "      <td>91.000000</td>\n",
       "    </tr>\n",
       "    <tr>\n",
       "      <th>mean</th>\n",
       "      <td>3010.398264</td>\n",
       "      <td>37.117931</td>\n",
       "    </tr>\n",
       "    <tr>\n",
       "      <th>median</th>\n",
       "      <td>3009.500000</td>\n",
       "      <td>36.000000</td>\n",
       "    </tr>\n",
       "    <tr>\n",
       "      <th>number_of_values</th>\n",
       "      <td>5416.000000</td>\n",
       "      <td>78.000000</td>\n",
       "    </tr>\n",
       "  </tbody>\n",
       "</table>\n",
       "</div>"
      ],
      "text/plain": [
       "                           id        age\n",
       "min_value            3.000000   6.000000\n",
       "max_value         5927.000000  91.000000\n",
       "mean              3010.398264  37.117931\n",
       "median            3009.500000  36.000000\n",
       "number_of_values  5416.000000  78.000000"
      ]
     },
     "metadata": {},
     "output_type": "display_data"
    },
    {
     "data": {
      "image/png": "[encoded data removed]",
      "text/plain": [
       "<Figure size 576x432 with 1 Axes>"
      ]
     },
     "metadata": {
      "needs_background": "light"
     },
     "output_type": "display_data"
    },
    {
     "data": {
      "image/png": "[encoded data removed]",
      "text/plain": [
       "<Figure size 576x432 with 1 Axes>"
      ]
     },
     "metadata": {
      "needs_background": "light"
     },
     "output_type": "display_data"
    },
    {
     "name": "stdout",
     "output_type": "stream",
     "text": [
      "\n",
      "\n",
      "---------- EDA for categorical columns ----------\n"
     ]
    },
    {
     "data": {
      "text/html": [
       "<div>\n",
       "<style scoped>\n",
       "    .dataframe tbody tr th:only-of-type {\n",
       "        vertical-align: middle;\n",
       "    }\n",
       "\n",
       "    .dataframe tbody tr th {\n",
       "        vertical-align: top;\n",
       "    }\n",
       "\n",
       "    .dataframe thead th {\n",
       "        text-align: right;\n",
       "    }\n",
       "</style>\n",
       "<table border=\"1\" class=\"dataframe\">\n",
       "  <thead>\n",
       "    <tr style=\"text-align: right;\">\n",
       "      <th></th>\n",
       "      <th>manner_of_death</th>\n",
       "      <th>gender</th>\n",
       "      <th>race</th>\n",
       "      <th>signs_of_mental_illness</th>\n",
       "      <th>threat_level</th>\n",
       "      <th>flee</th>\n",
       "      <th>body_camera</th>\n",
       "    </tr>\n",
       "  </thead>\n",
       "  <tbody>\n",
       "    <tr>\n",
       "      <th>most_frequent</th>\n",
       "      <td>shot</td>\n",
       "      <td>M</td>\n",
       "      <td>W</td>\n",
       "      <td>False</td>\n",
       "      <td>attack</td>\n",
       "      <td>Not fleeing</td>\n",
       "      <td>False</td>\n",
       "    </tr>\n",
       "    <tr>\n",
       "      <th>number_of_values</th>\n",
       "      <td>2</td>\n",
       "      <td>2</td>\n",
       "      <td>6</td>\n",
       "      <td>2</td>\n",
       "      <td>3</td>\n",
       "      <td>4</td>\n",
       "      <td>2</td>\n",
       "    </tr>\n",
       "  </tbody>\n",
       "</table>\n",
       "</div>"
      ],
      "text/plain": [
       "                 manner_of_death gender race signs_of_mental_illness  \\\n",
       "most_frequent               shot      M    W                   False   \n",
       "number_of_values               2      2    6                       2   \n",
       "\n",
       "                 threat_level         flee body_camera  \n",
       "most_frequent          attack  Not fleeing       False  \n",
       "number_of_values            3            4           2  "
      ]
     },
     "metadata": {},
     "output_type": "display_data"
    },
    {
     "data": {
      "image/png": "[encoded data removed]",
      "text/plain": [
       "<Figure size 576x432 with 1 Axes>"
      ]
     },
     "metadata": {
      "needs_background": "light"
     },
     "output_type": "display_data"
    },
    {
     "data": {
      "image/png": "[encoded data removed]",
      "text/plain": [
       "<Figure size 576x432 with 1 Axes>"
      ]
     },
     "metadata": {
      "needs_background": "light"
     },
     "output_type": "display_data"
    },
    {
     "data": {
      "image/png": "[encoded data removed]",
      "text/plain": [
       "<Figure size 576x432 with 1 Axes>"
      ]
     },
     "metadata": {
      "needs_background": "light"
     },
     "output_type": "display_data"
    },
    {
     "data": {
      "image/png": "[encoded data removed]",
      "text/plain": [
       "<Figure size 576x432 with 1 Axes>"
      ]
     },
     "metadata": {
      "needs_background": "light"
     },
     "output_type": "display_data"
    },
    {
     "data": {
      "image/png": "[encoded data removed]",
      "text/plain": [
       "<Figure size 576x432 with 1 Axes>"
      ]
     },
     "metadata": {
      "needs_background": "light"
     },
     "output_type": "display_data"
    },
    {
     "data": {
      "image/png": "[encoded data removed]",
      "text/plain": [
       "<Figure size 576x432 with 1 Axes>"
      ]
     },
     "metadata": {
      "needs_background": "light"
     },
     "output_type": "display_data"
    },
    {
     "data": {
      "image/png": "[encoded data removed]",
      "text/plain": [
       "<Figure size 576x432 with 1 Axes>"
      ]
     },
     "metadata": {
      "needs_background": "light"
     },
     "output_type": "display_data"
    },
    {
     "name": "stdout",
     "output_type": "stream",
     "text": [
      "\n",
      "\n",
      "---------- EDA for non categorical columns ----------\n",
      "These columns has unique values above 15:\n",
      "1- name has 5206 unique values\n",
      "2- date has 1844 unique values\n",
      "3- armed has 94 unique values\n",
      "4- city has 2470 unique values\n",
      "5- state has 51 unique values\n"
     ]
    }
   ],
   "source": [
    "# call output()\n",
    "police_dataset.output()"
   ]
  },
  {
   "cell_type": "code",
   "execution_count": null,
   "metadata": {},
   "outputs": [],
   "source": []
  }
 ],
 "metadata": {
  "kernelspec": {
   "display_name": "Python 3.8.9 32-bit",
   "language": "python",
   "name": "python3"
  },
  "language_info": {
   "codemirror_mode": {
    "name": "ipython",
    "version": 3
   },
   "file_extension": ".py",
   "mimetype": "text/x-python",
   "name": "python",
   "nbconvert_exporter": "python",
   "pygments_lexer": "ipython3",
   "version": "3.8.9"
  },
  "orig_nbformat": 4,
  "vscode": {
   "interpreter": {
    "hash": "77771355cc50be812e632eb171eb508ae931993fc14dde614b1f6979102433fd"
   }
  }
 },
 "nbformat": 4,
 "nbformat_minor": 2
}
